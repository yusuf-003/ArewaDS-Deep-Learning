{
  "nbformat": 4,
  "nbformat_minor": 0,
  "metadata": {
    "colab": {
      "name": "03_pytorch_computer_vision_exercises.ipynb",
      "provenance": [],
      "gpuType": "T4",
      "include_colab_link": true
    },
    "kernelspec": {
      "name": "python3",
      "display_name": "Python 3"
    },
    "language_info": {
      "name": "python"
    },
    "accelerator": "GPU"
  },
  "cells": [
    {
      "cell_type": "markdown",
      "metadata": {
        "id": "view-in-github",
        "colab_type": "text"
      },
      "source": [
        "<a href=\"https://colab.research.google.com/github/yusuf-003/ArewaDS-Deep-Learning/blob/main/extras/exercises/03_pytorch_computer_vision_exercises.ipynb\" target=\"_parent\"><img src=\"https://colab.research.google.com/assets/colab-badge.svg\" alt=\"Open In Colab\"/></a>"
      ]
    },
    {
      "cell_type": "markdown",
      "source": [
        "# 03. PyTorch Computer Vision Exercises\n",
        "\n",
        "The following is a collection of exercises based on computer vision fundamentals in PyTorch.\n",
        "\n",
        "They're a bunch of fun.\n",
        "\n",
        "You're going to get to write plenty of code!\n",
        "\n",
        "## Resources\n",
        "\n",
        "1. These exercises are based on [notebook 03 of the Learn PyTorch for Deep Learning course](https://www.learnpytorch.io/03_pytorch_computer_vision/).\n",
        "2. See a live [walkthrough of the solutions (errors and all) on YouTube](https://youtu.be/_PibmqpEyhA).\n",
        "  * **Note:** Going through these exercises took me just over 3 hours of solid coding, so you should expect around the same.\n",
        "3. See [other solutions on the course GitHub](https://github.com/mrdbourke/pytorch-deep-learning/tree/main/extras/solutions)."
      ],
      "metadata": {
        "id": "Vex99np2wFVt"
      }
    },
    {
      "cell_type": "code",
      "source": [
        "# Check for GPU\n",
        "!nvidia-smi"
      ],
      "metadata": {
        "colab": {
          "base_uri": "https://localhost:8080/"
        },
        "id": "GaeYzOTLwWh2",
        "outputId": "d1e90446-701a-47d6-88c9-2f1d4b543b2f"
      },
      "execution_count": 1,
      "outputs": [
        {
          "output_type": "stream",
          "name": "stdout",
          "text": [
            "Thu Feb 27 09:29:18 2025       \n",
            "+-----------------------------------------------------------------------------------------+\n",
            "| NVIDIA-SMI 550.54.15              Driver Version: 550.54.15      CUDA Version: 12.4     |\n",
            "|-----------------------------------------+------------------------+----------------------+\n",
            "| GPU  Name                 Persistence-M | Bus-Id          Disp.A | Volatile Uncorr. ECC |\n",
            "| Fan  Temp   Perf          Pwr:Usage/Cap |           Memory-Usage | GPU-Util  Compute M. |\n",
            "|                                         |                        |               MIG M. |\n",
            "|=========================================+========================+======================|\n",
            "|   0  Tesla T4                       Off |   00000000:00:04.0 Off |                    0 |\n",
            "| N/A   55C    P8             10W /   70W |       0MiB /  15360MiB |      0%      Default |\n",
            "|                                         |                        |                  N/A |\n",
            "+-----------------------------------------+------------------------+----------------------+\n",
            "                                                                                         \n",
            "+-----------------------------------------------------------------------------------------+\n",
            "| Processes:                                                                              |\n",
            "|  GPU   GI   CI        PID   Type   Process name                              GPU Memory |\n",
            "|        ID   ID                                                               Usage      |\n",
            "|=========================================================================================|\n",
            "|  No running processes found                                                             |\n",
            "+-----------------------------------------------------------------------------------------+\n"
          ]
        }
      ]
    },
    {
      "cell_type": "code",
      "source": [
        "# Import torch\n",
        "import torch\n",
        "\n",
        "# Exercises require PyTorch > 1.10.0\n",
        "print(torch.__version__)\n",
        "\n",
        "# TODO: Setup device agnostic code\n"
      ],
      "metadata": {
        "colab": {
          "base_uri": "https://localhost:8080/"
        },
        "id": "DNwZLMbCzJLk",
        "outputId": "dcbd6ca5-5221-452d-ce83-0fbed516ff7b"
      },
      "execution_count": 2,
      "outputs": [
        {
          "output_type": "stream",
          "name": "stdout",
          "text": [
            "2.5.1+cu124\n"
          ]
        }
      ]
    },
    {
      "cell_type": "markdown",
      "source": [
        "## 1. What are 3 areas in industry where computer vision is currently being used?"
      ],
      "metadata": {
        "id": "FSFX7tc1w-en"
      }
    },
    {
      "cell_type": "code",
      "source": [
        "# Health\n",
        "# Automotive\n",
        "# Agriculture"
      ],
      "metadata": {
        "id": "VyWRkvWGbCXj"
      },
      "execution_count": null,
      "outputs": []
    },
    {
      "cell_type": "markdown",
      "source": [
        "## 2. Search \"what is overfitting in machine learning\" and write down a sentence about what you find."
      ],
      "metadata": {
        "id": "oBK-WI6YxDYa"
      }
    },
    {
      "cell_type": "code",
      "source": [
        "# Overfitting occurs during an ML or DL inference, at a time of training. the model try to memorise the training and fail to\n",
        "# perorme well on the unseen data."
      ],
      "metadata": {
        "id": "d1rxD6GObCqh"
      },
      "execution_count": null,
      "outputs": []
    },
    {
      "cell_type": "markdown",
      "source": [
        "## 3. Search \"ways to prevent overfitting in machine learning\", write down 3 of the things you find and a sentence about each.\n",
        "> **Note:** there are lots of these, so don't worry too much about all of them, just pick 3 and start with those."
      ],
      "metadata": {
        "id": "XeYFEqw8xK26"
      }
    },
    {
      "cell_type": "code",
      "source": [
        "# Regularization\n",
        "# Feature selection\n",
        "# Data Argumentation"
      ],
      "metadata": {
        "id": "ocvOdWKcbEKr"
      },
      "execution_count": null,
      "outputs": []
    },
    {
      "cell_type": "markdown",
      "source": [
        "## 4. Spend 20-minutes reading and clicking through the [CNN Explainer website](https://poloclub.github.io/cnn-explainer/).\n",
        "\n",
        "* Upload your own example image using the \"upload\" button on the website and see what happens in each layer of a CNN as your image passes through it."
      ],
      "metadata": {
        "id": "DKdEEFEqxM-8"
      }
    },
    {
      "cell_type": "code",
      "source": [
        "# When uploading and image of an apple the image was divided into three diffrent color, although gray but (is channel).\n",
        "#The image pixels are transformed into small churn and passes through the hidden layers and so on."
      ],
      "metadata": {
        "id": "TqZaJIRMbFtS"
      },
      "execution_count": null,
      "outputs": []
    },
    {
      "cell_type": "markdown",
      "source": [
        "## 5. Load the [`torchvision.datasets.MNIST()`](https://pytorch.org/vision/stable/generated/torchvision.datasets.MNIST.html#torchvision.datasets.MNIST) train and test datasets."
      ],
      "metadata": {
        "id": "lvf-3pODxXYI"
      }
    },
    {
      "cell_type": "code",
      "source": [
        "import torchvision\n",
        "import torchvision.transforms as transforms\n",
        "\n",
        "train_dataset = torchvision.datasets.MNIST(root='./data', train=True, download=True, transform=transforms.ToTensor())\n",
        "test_dataset = torchvision.datasets.MNIST(root='./data', train=False, download=True, transform=transforms.ToTensor())"
      ],
      "metadata": {
        "id": "SHjeuN81bHza",
        "colab": {
          "base_uri": "https://localhost:8080/"
        },
        "outputId": "bdaf0210-ebae-47cb-bede-ff7df0fb0d51"
      },
      "execution_count": 3,
      "outputs": [
        {
          "output_type": "stream",
          "name": "stdout",
          "text": [
            "Downloading http://yann.lecun.com/exdb/mnist/train-images-idx3-ubyte.gz\n",
            "Failed to download (trying next):\n",
            "HTTP Error 404: Not Found\n",
            "\n",
            "Downloading https://ossci-datasets.s3.amazonaws.com/mnist/train-images-idx3-ubyte.gz\n",
            "Downloading https://ossci-datasets.s3.amazonaws.com/mnist/train-images-idx3-ubyte.gz to ./data/MNIST/raw/train-images-idx3-ubyte.gz\n"
          ]
        },
        {
          "output_type": "stream",
          "name": "stderr",
          "text": [
            "100%|██████████| 9.91M/9.91M [00:00<00:00, 15.9MB/s]\n"
          ]
        },
        {
          "output_type": "stream",
          "name": "stdout",
          "text": [
            "Extracting ./data/MNIST/raw/train-images-idx3-ubyte.gz to ./data/MNIST/raw\n",
            "\n",
            "Downloading http://yann.lecun.com/exdb/mnist/train-labels-idx1-ubyte.gz\n",
            "Failed to download (trying next):\n",
            "HTTP Error 404: Not Found\n",
            "\n",
            "Downloading https://ossci-datasets.s3.amazonaws.com/mnist/train-labels-idx1-ubyte.gz\n",
            "Downloading https://ossci-datasets.s3.amazonaws.com/mnist/train-labels-idx1-ubyte.gz to ./data/MNIST/raw/train-labels-idx1-ubyte.gz\n"
          ]
        },
        {
          "output_type": "stream",
          "name": "stderr",
          "text": [
            "100%|██████████| 28.9k/28.9k [00:00<00:00, 480kB/s]\n"
          ]
        },
        {
          "output_type": "stream",
          "name": "stdout",
          "text": [
            "Extracting ./data/MNIST/raw/train-labels-idx1-ubyte.gz to ./data/MNIST/raw\n",
            "\n",
            "Downloading http://yann.lecun.com/exdb/mnist/t10k-images-idx3-ubyte.gz\n",
            "Failed to download (trying next):\n",
            "HTTP Error 404: Not Found\n",
            "\n",
            "Downloading https://ossci-datasets.s3.amazonaws.com/mnist/t10k-images-idx3-ubyte.gz\n",
            "Downloading https://ossci-datasets.s3.amazonaws.com/mnist/t10k-images-idx3-ubyte.gz to ./data/MNIST/raw/t10k-images-idx3-ubyte.gz\n"
          ]
        },
        {
          "output_type": "stream",
          "name": "stderr",
          "text": [
            "100%|██████████| 1.65M/1.65M [00:00<00:00, 4.40MB/s]\n"
          ]
        },
        {
          "output_type": "stream",
          "name": "stdout",
          "text": [
            "Extracting ./data/MNIST/raw/t10k-images-idx3-ubyte.gz to ./data/MNIST/raw\n",
            "\n",
            "Downloading http://yann.lecun.com/exdb/mnist/t10k-labels-idx1-ubyte.gz\n",
            "Failed to download (trying next):\n",
            "HTTP Error 404: Not Found\n",
            "\n",
            "Downloading https://ossci-datasets.s3.amazonaws.com/mnist/t10k-labels-idx1-ubyte.gz\n",
            "Downloading https://ossci-datasets.s3.amazonaws.com/mnist/t10k-labels-idx1-ubyte.gz to ./data/MNIST/raw/t10k-labels-idx1-ubyte.gz\n"
          ]
        },
        {
          "output_type": "stream",
          "name": "stderr",
          "text": [
            "100%|██████████| 4.54k/4.54k [00:00<00:00, 12.9MB/s]"
          ]
        },
        {
          "output_type": "stream",
          "name": "stdout",
          "text": [
            "Extracting ./data/MNIST/raw/t10k-labels-idx1-ubyte.gz to ./data/MNIST/raw\n",
            "\n"
          ]
        },
        {
          "output_type": "stream",
          "name": "stderr",
          "text": [
            "\n"
          ]
        }
      ]
    },
    {
      "cell_type": "markdown",
      "source": [
        "## 6. Visualize at least 5 different samples of the MNIST training dataset."
      ],
      "metadata": {
        "id": "qxZW-uAbxe_F"
      }
    },
    {
      "cell_type": "code",
      "source": [
        "import matplotlib.pyplot as plt\n",
        "\n",
        "fig, axes = plt.subplots(1, 5, figsize=(15, 3))\n",
        "\n",
        "for i in range(5):\n",
        "\n",
        "    image, label = train_dataset[i]\n",
        "    image = image.squeeze().numpy()\n",
        "\n",
        "    # Plot the image\n",
        "    axes[i].imshow(image, cmap='gray')\n",
        "    axes[i].set_title(f\"Label: {label}\")\n",
        "    axes[i].axis('off')  # Hide the axes\n",
        "\n",
        "plt.show()"
      ],
      "metadata": {
        "id": "QVFsYi1PbItE",
        "colab": {
          "base_uri": "https://localhost:8080/",
          "height": 259
        },
        "outputId": "b0f02bec-ff21-4578-9190-b8a7b49f3ea1"
      },
      "execution_count": 4,
      "outputs": [
        {
          "output_type": "display_data",
          "data": {
            "text/plain": [
              "<Figure size 1500x300 with 5 Axes>"
            ],
            "image/png": "[encoded data removed]"
          },
          "metadata": {}
        }
      ]
    },
    {
      "cell_type": "markdown",
      "source": [
        "## 7. Turn the MNIST train and test datasets into dataloaders using `torch.utils.data.DataLoader`, set the `batch_size=32`."
      ],
      "metadata": {
        "id": "JAPDzW0wxhi3"
      }
    },
    {
      "cell_type": "code",
      "source": [
        "from torch.utils.data import DataLoader\n",
        "\n",
        "# Setting the batch size\n",
        "batch_size = 32\n",
        "\n",
        "train_loader = DataLoader(dataset=train_dataset, batch_size=batch_size, shuffle=True)\n",
        "test_loader = DataLoader(dataset=test_dataset, batch_size=batch_size, shuffle=False)\n",
        "\n",
        "# Print the details of the DataLoaders\n",
        "print(f\"Train DataLoader: {len(train_loader)} batches of {batch_size}\")\n",
        "print(f\"Test DataLoader: {len(test_loader)} batches of {batch_size}\")"
      ],
      "metadata": {
        "id": "ALA6MPcFbJXQ",
        "colab": {
          "base_uri": "https://localhost:8080/"
        },
        "outputId": "69753129-7502-41b9-d5b8-1cec410c99b4"
      },
      "execution_count": 5,
      "outputs": [
        {
          "output_type": "stream",
          "name": "stdout",
          "text": [
            "Train DataLoader: 1875 batches of 32\n",
            "Test DataLoader: 313 batches of 32\n"
          ]
        }
      ]
    },
    {
      "cell_type": "markdown",
      "source": [
        "## 8. Recreate `model_2` used in notebook 03 (the same model from the [CNN Explainer website](https://poloclub.github.io/cnn-explainer/), also known as TinyVGG) capable of fitting on the MNIST dataset."
      ],
      "metadata": {
        "id": "bCCVfXk5xjYS"
      }
    },
    {
      "cell_type": "code",
      "source": [
        "import torch\n",
        "import torch.nn as nn\n",
        "\n",
        "class TinyVGG(nn.Module):\n",
        "    def __init__(self, input_shape: int, hidden_units: int, output_shape: int):\n",
        "        super().__init__()\n",
        "        self.conv_block_1 = nn.Sequential(\n",
        "            nn.Conv2d(in_channels=input_shape, out_channels=hidden_units, kernel_size=3, padding=1),\n",
        "            nn.ReLU(),\n",
        "            nn.MaxPool2d(kernel_size=2, stride=2)\n",
        "        )\n",
        "        self.conv_block_2 = nn.Sequential(\n",
        "            nn.Conv2d(in_channels=hidden_units, out_channels=hidden_units, kernel_size=3, padding=1),\n",
        "            nn.ReLU(),\n",
        "            nn.MaxPool2d(kernel_size=2, stride=2)\n",
        "        )\n",
        "        self.classifier = nn.Sequential(\n",
        "            nn.Flatten(),\n",
        "            nn.Linear(in_features=hidden_units * 7 * 7, out_features=64),\n",
        "            nn.ReLU(),\n",
        "            nn.Linear(in_features=64, out_features=output_shape)\n",
        "        )\n",
        "\n",
        "    def forward(self, x):\n",
        "        x = self.conv_block_1(x)\n",
        "        x = self.conv_block_2(x)\n",
        "        x = self.classifier(x)\n",
        "        return x\n",
        "\n",
        "model = TinyVGG(input_shape=1, hidden_units=10, output_shape=10)\n",
        "print(model)"
      ],
      "metadata": {
        "id": "5IKNF22XbKYS",
        "colab": {
          "base_uri": "https://localhost:8080/"
        },
        "outputId": "d6a3aaf4-011b-4696-8a32-3824aed0c189"
      },
      "execution_count": 6,
      "outputs": [
        {
          "output_type": "stream",
          "name": "stdout",
          "text": [
            "TinyVGG(\n",
            "  (conv_block_1): Sequential(\n",
            "    (0): Conv2d(1, 10, kernel_size=(3, 3), stride=(1, 1), padding=(1, 1))\n",
            "    (1): ReLU()\n",
            "    (2): MaxPool2d(kernel_size=2, stride=2, padding=0, dilation=1, ceil_mode=False)\n",
            "  )\n",
            "  (conv_block_2): Sequential(\n",
            "    (0): Conv2d(10, 10, kernel_size=(3, 3), stride=(1, 1), padding=(1, 1))\n",
            "    (1): ReLU()\n",
            "    (2): MaxPool2d(kernel_size=2, stride=2, padding=0, dilation=1, ceil_mode=False)\n",
            "  )\n",
            "  (classifier): Sequential(\n",
            "    (0): Flatten(start_dim=1, end_dim=-1)\n",
            "    (1): Linear(in_features=490, out_features=64, bias=True)\n",
            "    (2): ReLU()\n",
            "    (3): Linear(in_features=64, out_features=10, bias=True)\n",
            "  )\n",
            ")\n"
          ]
        }
      ]
    },
    {
      "cell_type": "markdown",
      "source": [
        "## 9. Train the model you built in exercise 8. for 5 epochs on CPU and GPU and see how long it takes on each."
      ],
      "metadata": {
        "id": "sf_3zUr7xlhy"
      }
    },
    {
      "cell_type": "code",
      "source": [
        "# I really dont know whicxh exercise 8, the instructor is saying. However, the training on both CPU and GPU is as follow:"
      ],
      "metadata": {
        "id": "jSo6vVWFbNLD"
      },
      "execution_count": 11,
      "outputs": []
    },
    {
      "cell_type": "markdown",
      "source": [
        "## Training on the CPU"
      ],
      "metadata": {
        "id": "ImlT_rXNm5Lj"
      }
    },
    {
      "cell_type": "code",
      "source": [
        "import torch.optim as optim\n",
        "import time\n",
        "\n",
        "# Set random seed for reproducibility\n",
        "torch.manual_seed(42)\n",
        "epochs=5\n",
        "# Define loss function and optimizer\n",
        "loss_fn = nn.CrossEntropyLoss()\n",
        "optimizer = optim.Adam\n",
        "\n",
        "#  train the model\n",
        "def train_model(device, epochs):\n",
        "\n",
        "    model = TinyVGG(input_shape=1, hidden_units=10, output_shape=10).to(device)\n",
        "    optimizer = optim.Adam(model.parameters(), lr=0.001)\n",
        "\n",
        "    start_time = time.time()\n",
        "\n",
        "    for epoch in range(epochs):\n",
        "        model.train()\n",
        "        train_loss, train_acc = 0, 0\n",
        "\n",
        "        for batch_idx, (X, y) in enumerate(train_loader):\n",
        "            X, y = X.to(device), y.to(device)\n",
        "\n",
        "            y_logits = model(X)\n",
        "            loss = loss_fn(y_logits, y)\n",
        "            train_loss += loss.item()\n",
        "\n",
        "            # Calculate accuracy\n",
        "            y_pred = torch.argmax(torch.softmax(y_logits, dim=1), dim=1)\n",
        "            train_acc += (y_pred == y).sum().item() / len(y)\n",
        "\n",
        "            # Backward pass\n",
        "            optimizer.zero_grad()\n",
        "            loss.backward()\n",
        "            optimizer.step()\n",
        "\n",
        "        # Print training progress\n",
        "        train_loss /= len(train_loader)\n",
        "        train_acc /= len(train_loader)\n",
        "        print(f\"Epoch: {epoch + 1} | Train Loss: {train_loss:.4f}, Train Acc: {train_acc:.4f}\")\n",
        "\n",
        "    # End the timer\n",
        "    end_time = time.time()\n",
        "    total_time = end_time - start_time\n",
        "    print(f\"Training time on {device}: {total_time:.2f} seconds\")\n",
        "\n",
        "    return total_time\n",
        "\n",
        "\n",
        "print(\"Training on CPU...\")\n",
        "cpu_time = train_model(device=\"cpu\")\n"
      ],
      "metadata": {
        "colab": {
          "base_uri": "https://localhost:8080/"
        },
        "id": "kc0aPBWRm3iz",
        "outputId": "9ef012db-1a38-4111-8edd-d9458c291a77"
      },
      "execution_count": 12,
      "outputs": [
        {
          "output_type": "stream",
          "name": "stdout",
          "text": [
            "Training on CPU...\n",
            "Epoch: 1 | Train Loss: 0.2585, Train Acc: 0.9211\n",
            "Epoch: 2 | Train Loss: 0.0793, Train Acc: 0.9761\n",
            "Epoch: 3 | Train Loss: 0.0590, Train Acc: 0.9817\n",
            "Epoch: 4 | Train Loss: 0.0461, Train Acc: 0.9855\n",
            "Epoch: 5 | Train Loss: 0.0387, Train Acc: 0.9878\n",
            "Training time on cpu: 97.70 seconds\n"
          ]
        }
      ]
    },
    {
      "cell_type": "markdown",
      "source": [
        "## Training on GPU"
      ],
      "metadata": {
        "id": "gffzqrQdo8Nk"
      }
    },
    {
      "cell_type": "code",
      "source": [
        "import torch\n",
        "import torch.nn as nn\n",
        "import torch.optim as optim\n",
        "import time\n",
        "\n",
        "# Define hyperparameter function\n",
        "loss_fn = nn.CrossEntropyLoss()\n",
        "optimizer = optim.Adam\n",
        "\n",
        "\n",
        "def train_model(device, epochs=5):\n",
        "    # Initialize model and move it to the GPU\n",
        "    model = TinyVGG(input_shape=1, hidden_units=10, output_shape=10).to(device)\n",
        "    optimizer = optim.Adam(model.parameters(), lr=0.001)\n",
        "\n",
        "    start_time = time.time()\n",
        "\n",
        "    for epoch in range(epochs):\n",
        "        model.train()\n",
        "        train_loss, train_acc = 0, 0\n",
        "\n",
        "        for batch_idx, (X, y) in enumerate(train_loader):\n",
        "            X, y = X.to(device), y.to(device)\n",
        "\n",
        "            # forward pass\n",
        "            y_logits = model(X)\n",
        "            loss = loss_fn(y_logits, y)\n",
        "            train_loss += loss.item()\n",
        "\n",
        "\n",
        "            y_pred = torch.argmax(torch.softmax(y_logits, dim=1), dim=1)\n",
        "            train_acc += (y_pred == y).sum().item() / len(y)\n",
        "\n",
        "\n",
        "            optimizer.zero_grad()\n",
        "            loss.backward()\n",
        "            optimizer.step()\n",
        "\n",
        "        # Print training progress\n",
        "        train_loss /= len(train_loader)\n",
        "        train_acc /= len(train_loader)\n",
        "        print(f\"Epoch: {epoch + 1} | Train Loss: {train_loss:.4f}, Train Acc: {train_acc:.4f}\")\n",
        "\n",
        "    # End the timer\n",
        "    end_time = time.time()\n",
        "    total_time = end_time - start_time\n",
        "    print(f\"Training time on {device}: {total_time:.2f} seconds\")\n",
        "\n",
        "    return total_time\n",
        "print(\"Training on GPU\")"
      ],
      "metadata": {
        "id": "gGA1WHgwwpbq",
        "outputId": "08cc4eb4-4d8a-471f-cb21-058fced2228c",
        "colab": {
          "base_uri": "https://localhost:8080/"
        }
      },
      "execution_count": 9,
      "outputs": [
        {
          "output_type": "stream",
          "name": "stdout",
          "text": [
            "Training on GPU\n",
            "Epoch: 1 | Train Loss: 0.2556, Train Acc: 0.9220\n",
            "Epoch: 2 | Train Loss: 0.0778, Train Acc: 0.9759\n",
            "Epoch: 3 | Train Loss: 0.0545, Train Acc: 0.9830\n",
            "Epoch: 4 | Train Loss: 0.0422, Train Acc: 0.9864\n",
            "Epoch: 5 | Train Loss: 0.0339, Train Acc: 0.9889\n",
            "Training time on cuda: 49.96 seconds\n"
          ]
        }
      ]
    },
    {
      "cell_type": "code",
      "source": [
        "cpu_time = 97.70\n",
        "gpu_time = 49.96\n",
        "\n",
        "print(f\"Training time on CPU is : {cpu_time} seconds\")\n",
        "print(f\"Training time on GPU is : {gpu_time} seconds\")\n",
        "\n",
        "if cpu_time > gpu_time:\n",
        "    print(\"GPU is faster.\")\n",
        "else:\n",
        "    print(\"CPU is faster with\")\n",
        "\n",
        "# Compute speedup\n",
        "speedup = cpu_time / gpu_time\n",
        "print(f\"Speedup of : {speedup:.2f}x\")\n"
      ],
      "metadata": {
        "id": "UuO9Ro_n4g5X",
        "outputId": "5e0d2777-d54d-44e5-fdc8-1388c3d045ad",
        "colab": {
          "base_uri": "https://localhost:8080/"
        }
      },
      "execution_count": 20,
      "outputs": [
        {
          "output_type": "stream",
          "name": "stdout",
          "text": [
            "Training time on CPU is : 97.7 seconds\n",
            "Training time on GPU is : 49.96 seconds\n",
            "GPU is faster.\n",
            "Speedup of : 1.96x\n"
          ]
        }
      ]
    },
    {
      "cell_type": "markdown",
      "source": [
        "## 10. Make predictions using your trained model and visualize at least 5 of them comparing the prediciton to the target label."
      ],
      "metadata": {
        "id": "w1CsHhPpxp1w"
      }
    },
    {
      "cell_type": "code",
      "source": [
        "import matplotlib.pyplot as plt\n",
        "import torch\n",
        "\n",
        "\n",
        "model.eval()\n",
        "\n",
        "with torch.inference_mode():\n",
        "    test_samples, test_labels = next(iter(test_loader))\n",
        "    #test_samples, test_labels = test_samples.to(device), test_labels.to(device)\n",
        "    test_logits = model(test_samples)\n",
        "    test_pred_probs = torch.softmax(test_logits, dim=1)\n",
        "    test_pred_labels = torch.argmax(test_pred_probs, dim=1)\n",
        "\n",
        "# Move data back to CPU for visualization\n",
        "test_samples = test_samples.cpu()\n",
        "test_labels = test_labels.cpu()\n",
        "test_pred_labels = test_pred_labels.cpu()\n",
        "\n",
        "# Visualize at least 5 samples\n",
        "num_samples_to_plot = 5\n",
        "plt.figure(figsize=(15, 3))\n",
        "for i in range(num_samples_to_plot):\n",
        "    # Plot the image\n",
        "    plt.subplot(1, num_samples_to_plot, i + 1)\n",
        "    plt.imshow(test_samples[i].squeeze(), cmap='gray')\n",
        "    plt.title(f\"Pred: {test_pred_labels[i]}\\nTrue: {test_labels[i]}\")\n",
        "    plt.axis('off')\n",
        "\n",
        "plt.show()"
      ],
      "metadata": {
        "id": "_YGgZvSobNxu",
        "colab": {
          "base_uri": "https://localhost:8080/",
          "height": 280
        },
        "outputId": "68a60c20-94f7-4b56-b4fa-409c04bf5304"
      },
      "execution_count": 21,
      "outputs": [
        {
          "output_type": "display_data",
          "data": {
            "text/plain": [
              "<Figure size 1500x300 with 5 Axes>"
            ],
            "image/png": "[encoded data removed]"
          },
          "metadata": {}
        }
      ]
    },
    {
      "cell_type": "markdown",
      "source": [
        "## 11. Plot a confusion matrix comparing your model's predictions to the truth labels."
      ],
      "metadata": {
        "id": "qQwzqlBWxrpG"
      }
    },
    {
      "cell_type": "code",
      "source": [
        "import numpy as np\n",
        "from sklearn.metrics import confusion_matrix\n",
        "import seaborn as sns\n",
        "import matplotlib.pyplot as plt\n",
        "\n",
        "# Set the model to evaluation mode\n",
        "model.eval()\n",
        "\n",
        "# Initialize lists to store predictions and true labels\n",
        "all_preds = []\n",
        "all_labels = []\n",
        "\n",
        "# Make predictions on the entire test dataset\n",
        "with torch.inference_mode():\n",
        "    for X, y in test_loader:\n",
        "        # Move data to the device\n",
        "        #X, y = X.to(device), y.to(device)\n",
        "\n",
        "        # Forward pass (get logits)\n",
        "        y_logits = model(X)\n",
        "\n",
        "        # Convert logits to prediction labels\n",
        "        y_preds = torch.argmax(torch.softmax(y_logits, dim=1), dim=1)\n",
        "\n",
        "        # Append predictions and true labels\n",
        "        all_preds.extend(y_preds.cpu().numpy())\n",
        "        all_labels.extend(y.cpu().numpy())\n",
        "\n",
        "# Compute the confusion matrix\n",
        "cm = confusion_matrix(all_labels, all_preds)\n",
        "\n",
        "# Plot the confusion matrix\n",
        "plt.figure(figsize=(10, 8))\n",
        "sns.heatmap(cm, annot=True, fmt=\"d\", cmap=\"Blues\", cbar=False,\n",
        "            xticklabels=[str(i) for i in range(10)],\n",
        "            yticklabels=[str(i) for i in range(10)])\n",
        "plt.xlabel(\"Predicted Label\")\n",
        "plt.ylabel(\"True Label\")\n",
        "plt.title(\"Confusion Matrix\")\n",
        "plt.show()"
      ],
      "metadata": {
        "id": "vSrXiT_AbQ6e",
        "colab": {
          "base_uri": "https://localhost:8080/",
          "height": 718
        },
        "outputId": "a5c455cc-8b8b-448b-86a6-42940e57ec70"
      },
      "execution_count": 22,
      "outputs": [
        {
          "output_type": "display_data",
          "data": {
            "text/plain": [
              "<Figure size 1000x800 with 1 Axes>"
            ],
            "image/png": "[encoded data removed]"
          },
          "metadata": {}
        }
      ]
    },
    {
      "cell_type": "markdown",
      "source": [
        "## 12. Create a random tensor of shape `[1, 3, 64, 64]` and pass it through a `nn.Conv2d()` layer with various hyperparameter settings (these can be any settings you choose), what do you notice if the `kernel_size` parameter goes up and down?"
      ],
      "metadata": {
        "id": "lj6bDhoWxt2y"
      }
    },
    {
      "cell_type": "code",
      "source": [
        "import torch\n",
        "import torch.nn as nn\n",
        "\n",
        "random_tensor = torch.randn(1, 3, 64, 64)\n",
        "\n",
        "# Conv2d with different kernel sizes\n",
        "def apply_conv2d(input_tensor, kernel_size):\n",
        "\n",
        "    conv_layer = nn.Conv2d(\n",
        "        in_channels=3,\n",
        "        out_channels=16,\n",
        "        kernel_size=kernel_size,\n",
        "        stride=1,\n",
        "        padding=0\n",
        "    )\n",
        "\n",
        "\n",
        "    output_tensor = conv_layer(input_tensor)\n",
        "    return output_tensor\n",
        "\n",
        "\n",
        "kernel_sizes = [1, 3, 5, 7]\n",
        "for kernel_size in kernel_sizes:\n",
        "    output = apply_conv2d(random_tensor, kernel_size)\n",
        "    print(f\"Kernel size: {kernel_size}, Output shape: {output.shape}\")"
      ],
      "metadata": {
        "id": "leCTsqtSbR5P",
        "colab": {
          "base_uri": "https://localhost:8080/"
        },
        "outputId": "6b7dd117-ce44-4e86-ce3c-abde3722143b"
      },
      "execution_count": 23,
      "outputs": [
        {
          "output_type": "stream",
          "name": "stdout",
          "text": [
            "Kernel size: 1, Output shape: torch.Size([1, 16, 64, 64])\n",
            "Kernel size: 3, Output shape: torch.Size([1, 16, 62, 62])\n",
            "Kernel size: 5, Output shape: torch.Size([1, 16, 60, 60])\n",
            "Kernel size: 7, Output shape: torch.Size([1, 16, 58, 58])\n"
          ]
        }
      ]
    },
    {
      "cell_type": "code",
      "source": [
        "# As the kernel increases, the output decreases."
      ],
      "metadata": {
        "id": "5FNmPLuSvvi6"
      },
      "execution_count": null,
      "outputs": []
    },
    {
      "cell_type": "markdown",
      "source": [
        "## 13. Use a model similar to the trained `model_2` from notebook 03 to make predictions on the test [`torchvision.datasets.FashionMNIST`](https://pytorch.org/vision/main/generated/torchvision.datasets.FashionMNIST.html) dataset.\n",
        "* Then plot some predictions where the model was wrong alongside what the label of the image should've been.\n",
        "* After visualing these predictions do you think it's more of a modelling error or a data error?\n",
        "* As in, could the model do better or are the labels of the data too close to each other (e.g. a \"Shirt\" label is too close to \"T-shirt/top\")?"
      ],
      "metadata": {
        "id": "VHS20cNTxwSi"
      }
    },
    {
      "cell_type": "code",
      "source": [
        "#importing the necessary libraries\n",
        "import torch\n",
        "import torch.nn as nn\n",
        "import torch.optim as optim\n",
        "from torch.utils.data import DataLoader\n",
        "import torchvision\n",
        "import torchvision.transforms as transforms\n",
        "import matplotlib.pyplot as plt\n",
        "import numpy as np"
      ],
      "metadata": {
        "id": "78a8LjtdbSZj"
      },
      "execution_count": 47,
      "outputs": []
    },
    {
      "cell_type": "code",
      "source": [
        "# Set random seed\n",
        "torch.manual_seed(42)"
      ],
      "metadata": {
        "colab": {
          "base_uri": "https://localhost:8080/"
        },
        "id": "aFuLa-Wb-4li",
        "outputId": "7311e445-71cc-4f8d-d996-cdd0de7a2a3d"
      },
      "execution_count": 48,
      "outputs": [
        {
          "output_type": "execute_result",
          "data": {
            "text/plain": [
              "<torch._C.Generator at 0x79392c5288b0>"
            ]
          },
          "metadata": {},
          "execution_count": 48
        }
      ]
    },
    {
      "cell_type": "code",
      "source": [
        "# Load dataset\n",
        "transform = transforms.ToTensor()\n",
        "train_dataset = torchvision.datasets.FashionMNIST(root='./data', train=True, download=True, transform=transform)\n",
        "test_dataset = torchvision.datasets.FashionMNIST(root='./data', train=False, download=True, transform=transform)"
      ],
      "metadata": {
        "id": "DeBFv7x__Bm4"
      },
      "execution_count": 49,
      "outputs": []
    },
    {
      "cell_type": "code",
      "source": [
        "#Creating a DataLoaders for both training and testing\n",
        "batch_size = 32\n",
        "train_loader = DataLoader(dataset=train_dataset, batch_size=batch_size, shuffle=True)\n",
        "test_loader = DataLoader(dataset=test_dataset, batch_size=batch_size, shuffle=False)"
      ],
      "metadata": {
        "id": "ePNtYXeBBBQn"
      },
      "execution_count": 50,
      "outputs": []
    },
    {
      "cell_type": "code",
      "source": [
        "# Define the model of TinyVGG\n",
        "class TinyVGG(nn.Module):\n",
        "    def __init__(self, input_shape: int, hidden_units: int, output_shape: int):\n",
        "        super().__init__()\n",
        "        self.conv_block_1 = nn.Sequential(\n",
        "            nn.Conv2d(in_channels=input_shape, out_channels=hidden_units, kernel_size=3, padding=1),\n",
        "            nn.ReLU(),\n",
        "            nn.MaxPool2d(kernel_size=2, stride=2)\n",
        "        )\n",
        "        self.conv_block_2 = nn.Sequential(\n",
        "            nn.Conv2d(in_channels=hidden_units, out_channels=hidden_units, kernel_size=3, padding=1),\n",
        "            nn.ReLU(),\n",
        "            nn.MaxPool2d(kernel_size=2, stride=2)\n",
        "        )\n",
        "        self.classifier = nn.Sequential(\n",
        "            nn.Flatten(),\n",
        "            nn.Linear(in_features=hidden_units * 7 * 7, out_features=64),\n",
        "            nn.ReLU(),\n",
        "            nn.Linear(in_features=64, out_features=output_shape)\n",
        "        )\n",
        "\n",
        "    def forward(self, x):\n",
        "        x = self.conv_block_1(x)\n",
        "        x = self.conv_block_2(x)\n",
        "        x = self.classifier(x)\n",
        "        return x"
      ],
      "metadata": {
        "id": "PX2RjjwPBQtP"
      },
      "execution_count": 56,
      "outputs": []
    },
    {
      "cell_type": "code",
      "source": [
        "# Instantiating the model\n",
        "model = TinyVGG(input_shape=1, hidden_units=10, output_shape=10)"
      ],
      "metadata": {
        "id": "hK6Aq2aPB-D-"
      },
      "execution_count": 57,
      "outputs": []
    },
    {
      "cell_type": "code",
      "source": [
        "# Define loss function and optimizer\n",
        "loss_fn = nn.CrossEntropyLoss()\n",
        "optimizer = optim.Adam(model.parameters(), lr=0.001)\n",
        "epochs =5"
      ],
      "metadata": {
        "id": "D6jzI_vnIU2S"
      },
      "execution_count": 58,
      "outputs": []
    },
    {
      "cell_type": "code",
      "source": [
        "# train the model\n",
        "\n",
        "def train_model(device, epochs):\n",
        "\n",
        "    model = TinyVGG(input_shape=1, hidden_units=10, output_shape=10).to(device)\n",
        "    optimizer = optim.Adam(model.parameters(), lr=0.001)\n",
        "\n",
        "    start_time = time.time()\n",
        "\n",
        "    for epoch in range(epochs):\n",
        "        model.train()\n",
        "        train_loss, train_acc = 0, 0\n",
        "\n",
        "        for batch_idx, (X, y) in enumerate(train_loader):\n",
        "            X, y = X.to(device), y.to(device)\n",
        "\n",
        "            y_logits = model(X)\n",
        "            loss = loss_fn(y_logits, y)\n",
        "            train_loss += loss.item()\n",
        "\n",
        "            # Calculate accuracy\n",
        "            y_pred = torch.argmax(torch.softmax(y_logits, dim=1), dim=1)\n",
        "            train_acc += (y_pred == y).sum().item() / len(y)\n",
        "\n",
        "            # Backward pass\n",
        "            optimizer.zero_grad()\n",
        "            loss.backward()\n",
        "            optimizer.step()\n",
        "\n",
        "            # Print training progress\n",
        "            train_loss /= len(train_loader)\n",
        "            train_acc /= len(train_loader)\n",
        "            print(f\"Epoch: {epoch + 1} | Train Loss: {train_loss:.4f}, Train Acc: {train_acc:.4f}\")"
      ],
      "metadata": {
        "id": "LNQqhLEvCEMg"
      },
      "execution_count": 59,
      "outputs": []
    },
    {
      "cell_type": "code",
      "source": [
        "# Make predictions on the test dataset\n",
        "model.eval()\n",
        "incorrect_samples = []  # Store incorrect predictions\n",
        "\n",
        "with torch.inference_mode():\n",
        "    for X, y in test_loader:\n",
        "        # Forward pass\n",
        "        y_logits = model(X)\n",
        "        y_preds = torch.argmax(torch.softmax(y_logits, dim=1), dim=1)\n",
        "\n",
        "        # Find incorrect predictions\n",
        "        incorrect_mask = y_preds != y\n",
        "        incorrect_samples.extend(list(zip(X[incorrect_mask], y_preds[incorrect_mask], y[incorrect_mask])))"
      ],
      "metadata": {
        "id": "SH5enCOGCcxq"
      },
      "execution_count": 60,
      "outputs": []
    },
    {
      "cell_type": "code",
      "source": [
        " #Visualize some incorrect predictions\n",
        "num_samples_to_plot = 5\n",
        "plt.figure(figsize=(15, 3))\n",
        "for i, (image, pred, true) in enumerate(incorrect_samples[:num_samples_to_plot]):\n",
        "    # Convert image tensor to numpy array\n",
        "    image = image.squeeze().numpy()\n",
        "\n",
        "    # Plot the image\n",
        "    plt.subplot(1, num_samples_to_plot, i + 1)\n",
        "    plt.imshow(image, cmap='gray')\n",
        "    plt.title(f\"Pred: {pred.item()}\\nTrue: {true.item()}\")\n",
        "    plt.axis('off')\n",
        "\n",
        "plt.show()"
      ],
      "metadata": {
        "colab": {
          "base_uri": "https://localhost:8080/",
          "height": 280
        },
        "id": "pWJhAxIiCgjE",
        "outputId": "e3686bce-525e-4fea-a26e-10090c6cff0f"
      },
      "execution_count": 61,
      "outputs": [
        {
          "output_type": "display_data",
          "data": {
            "text/plain": [
              "<Figure size 1500x300 with 5 Axes>"
            ],
            "image/png": "[encoded data removed]"
          },
          "metadata": {}
        }
      ]
    }
  ]
}